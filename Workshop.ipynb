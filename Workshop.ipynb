{
  "nbformat": 4,
  "nbformat_minor": 0,
  "metadata": {
    "colab": {
      "name": "Workshop.ipynb",
      "provenance": [],
      "collapsed_sections": [
        "EzERo1cH9ely",
        "VsuOUwdt_vin",
        "lGrzqaZwAt7e",
        "xOc1mUOqCezm",
        "qKNqj-uvsg4t"
      ],
      "toc_visible": true,
      "mount_file_id": "1w2yrvnmOT3m1QmGX4iaIXmH8rLxYZ21i",
      "authorship_tag": "ABX9TyPieiSxjP3H3goTMrCzqmEr",
      "include_colab_link": true
    },
    "kernelspec": {
      "name": "python3",
      "display_name": "Python 3"
    },
    "language_info": {
      "name": "python"
    }
  },
  "cells": [
    {
      "cell_type": "markdown",
      "metadata": {
        "id": "view-in-github",
        "colab_type": "text"
      },
      "source": [
        "<a href=\"https://colab.research.google.com/github/Poulinakis-Konstantinos/Google_Colab_Workshop/blob/main/Workshop.ipynb\" target=\"_parent\"><img src=\"https://colab.research.google.com/assets/colab-badge.svg\" alt=\"Open In Colab\"/></a>"
      ]
    },
    {
      "cell_type": "markdown",
      "metadata": {
        "id": "Th2LaNLH62SF"
      },
      "source": [
        "# Workshop on Google   Colab for AI Session. \n",
        "#### Konstantinos Poulinakis "
      ]
    },
    {
      "cell_type": "markdown",
      "metadata": {
        "id": "4WBWhXDoevsO"
      },
      "source": [
        "### Intro"
      ]
    },
    {
      "cell_type": "markdown",
      "metadata": {
        "id": "idesCmUo7NeW"
      },
      "source": [
        "Google Colab is an amazing gift to the data science community from the fine folks at Google.  colab gives us the ability to build complex and heavy machine learning and deep learning models without having to expend our machine’s limited resources.\n",
        "\n",
        " \n",
        "\n",
        "*    colab is a hosted Jupyter notebook service that requires no setup to use, while providing free access to computing resources including GPUs. It is PLUG & PLAY !\n",
        "*   Jupyter is the open source project on which  colab is based.  colab allows you to use and share Jupyter notebooks with others without having to download, install, or run anything.\n",
        "*  Currently it supports only Python 3, although there is interest to also include R and Scala. (Python 2 support has died) \n",
        "\n",
        "\n",
        "\n",
        "\n",
        "\n",
        "\n",
        "\n",
        "\n",
        "\n",
        "\n",
        "\n"
      ]
    },
    {
      "cell_type": "markdown",
      "metadata": {
        "id": "EzERo1cH9ely"
      },
      "source": [
        "### How long can notebooks run in  Colab?\n",
        "\n",
        "Notebooks run by connecting to virtual machines that have **maximum lifetimes that can be as much as 12 hours**. Notebooks will also **disconnect from VMs when left idle for too long**. Maximum VM lifetime and idle timeout behavior may vary over time, or based on your usage. Users interested in longer VM lifetimes and more lenient idle timeout behaviors that don’t vary as much over time may be interested in  Colab Pro.\n",
        "\n",
        "GPUs and TPUs are sometimes prioritized for users who use  Colab interactively rather than for long-running computations, or for users who have recently used less resources in  Colab.\n",
        "\n",
        " Colab does not publish these limits, in part because they can (and sometimes do) vary quickly\n"
      ]
    },
    {
      "cell_type": "markdown",
      "metadata": {
        "id": "VsuOUwdt_vin"
      },
      "source": [
        "### To get the most out of  Colab, \n",
        "\n",
        "Consider closing your  Colab tabs when you are done with your work, and avoid opting for a GPU when it is not needed for your work, especially when you get errors such as \"Your GPU is not utilized\". This will make it less likely that you will run into usage limits in  Colab."
      ]
    },
    {
      "cell_type": "markdown",
      "metadata": {
        "id": "KR921S_OQSHG"
      },
      "source": [
        "## Code cells\n",
        "Below is a **code cell**. Once the toolbar button indicates CONNECTED, click in the cell to select it and execute the contents in the following ways:\n",
        "\n",
        "* Click the **Play icon** in the left gutter of the cell;\n",
        "* Type **Cmd/Ctrl+Enter** to run the cell in place;\n",
        "* Type **Shift+Enter** to run the cell and move focus to the next cell (adding one if none exists); or\n",
        "* Type **Alt+Enter** to run the cell and insert a new code cell immediately below it.\n",
        "\n",
        "There are additional options for running some or all cells in the **Runtime** menu.\n"
      ]
    },
    {
      "cell_type": "markdown",
      "metadata": {
        "id": "lGrzqaZwAt7e"
      },
      "source": [
        "## Opening/Creating Notebooks\n",
        "\n",
        "\n",
        "1.   Create New Notebook\n",
        "2.   Opening/Importing existing notebooks (ctrl + O)\n",
        "    *   Upload .ipynb from machine .\n",
        "    *   Import .ipynb from Google Drive .\n",
        "    *   Import from GitHub .\n",
        "\n",
        "\n",
        "\n",
        "\n",
        "\n"
      ]
    },
    {
      "cell_type": "markdown",
      "metadata": {
        "id": "xOc1mUOqCezm"
      },
      "source": [
        "## Downloading / Saving your work\n",
        "\n",
        "1.  Save on Google Drive ( This is the default when you ctrl+ S).\n",
        "2.  Download notebook as \".ipynb\" or \".py\" format  [ *File > Download > Download as __* ]\n",
        "3.  Save directly on a Public GitHub repo that you have access to     [ *File > Save a copy in GitHub* ]\n",
        "\n"
      ]
    },
    {
      "cell_type": "markdown",
      "metadata": {
        "id": "eFFQX6w-Ew6i"
      },
      "source": [
        "## Revision History ( integrated version control )   [ File > Revision history ]\n",
        " Can be used to roll back to a different date or version of your notebook. Usefull for correcting mistakes or restoring deleted cells/code .\n",
        "\n",
        " You can \n",
        "\n",
        "\n",
        "1.   Name versions\n",
        "2.   Restore older versions\n",
        "3.   Open older version in Colab ( You can only save it as a different file in Drive)\n",
        "\n",
        "\n"
      ]
    },
    {
      "cell_type": "code",
      "metadata": {
        "colab": {
          "base_uri": "https://localhost:8080/"
        },
        "id": "pOSERiaZvAzH",
        "outputId": "9add0780-8f48-4a0e-fb48-de6630a31620"
      },
      "source": [
        "#@title\n",
        "bug=False\n",
        "while(bug):\n",
        "  print(\" BUG \")\n",
        "print(\" Everything is working, don't worry :) \")  "
      ],
      "execution_count": 2,
      "outputs": [
        {
          "output_type": "stream",
          "text": [
            " Everything is working, don't worry :) \n"
          ],
          "name": "stdout"
        }
      ]
    },
    {
      "cell_type": "markdown",
      "metadata": {
        "id": "qKNqj-uvsg4t"
      },
      "source": [
        "## Some usefull options/features\n",
        "\n",
        "1.   Open a \"live code cell\" and see executed history.  [ view > Executed history ]\n",
        "2.   View notebook info [ view > Notebook info ] \n",
        "1.   Find & Replace  [ edit > Find and replace   or ctrl+H ]\n",
        "2.   Clear all outputs  [ edit > Clear all output ]\n",
        "3.   Show/Hide output.  [ view > Show/hide output  or ctrl+ M O ]\n",
        "4.   Show/Hide code .  [ view > Show/hide code ]\n",
        "\n"
      ]
    },
    {
      "cell_type": "markdown",
      "metadata": {
        "id": "FhN-c0ET1bpf"
      },
      "source": [
        "### Automatic Completion / Documentation window"
      ]
    },
    {
      "cell_type": "code",
      "metadata": {
        "id": "aFd2Kb_b1kB9"
      },
      "source": [
        "import keras \n",
        "from keras import applications\n",
        "import numpy as np"
      ],
      "execution_count": null,
      "outputs": []
    },
    {
      "cell_type": "code",
      "metadata": {
        "id": "jS53DNlr13wE"
      },
      "source": [
        "# as you complete sentence with \".\" a list of available modules opens. You can reopen the list by pressing ctrl+space\n",
        "keras.applications.\n",
        "\n",
        "# Opening a parenthesis displays a windo with the documentation. Open it again by hovering over with the mouse.\n",
        "# On that windows click \"Open in tab\" option to the documentation on a tab at the bottom of the screen.\n",
        "# Click \"View source\" to view the modules source code !\n",
        "np()\n"
      ],
      "execution_count": null,
      "outputs": []
    },
    {
      "cell_type": "code",
      "metadata": {
        "colab": {
          "base_uri": "https://localhost:8080/"
        },
        "id": "EVr0gOzT71SP",
        "outputId": "c1dd36d6-7b71-4bbf-d26d-8b774e5b3984"
      },
      "source": [
        "for i in range(0,8,2):\n",
        "  print(\"this is a test\")\n",
        "  j=[1,2,2,3,4,5,1]\n",
        "   \n",
        "  sum= j[i]+i\n",
        "  print(sum)"
      ],
      "execution_count": null,
      "outputs": [
        {
          "output_type": "stream",
          "text": [
            "this is a test\n",
            "1\n",
            "this is a test\n",
            "4\n",
            "this is a test\n",
            "8\n",
            "this is a test\n",
            "7\n"
          ],
          "name": "stdout"
        }
      ]
    },
    {
      "cell_type": "markdown",
      "metadata": {
        "id": "qM4myQGfQboQ"
      },
      "source": [
        "## Magics\n",
        "Colaboratory shares the notion of magics from Jupyter. There are shorthand annotations that change how a cell's text is executed. To learn more, see [Jupyter's magics page](http://nbviewer.jupyter.org/github/ipython/ipython/blob/1.x/examples/notebooks/Cell%20Magics.ipynb). \n"
      ]
    },
    {
      "cell_type": "code",
      "metadata": {
        "cellView": "both",
        "colab": {
          "base_uri": "https://localhost:8080/",
          "height": 35
        },
        "id": "odfM-_GxWbCy",
        "outputId": "baf0abbd-8750-45fa-fe5f-69220a721a50"
      },
      "source": [
        "%%html\n",
        "<marquee style='width: 30%; color: blue;'><b> EDEN !!</b></marquee>"
      ],
      "execution_count": null,
      "outputs": [
        {
          "output_type": "display_data",
          "data": {
            "text/html": [
              "<marquee style='width: 30%; color: blue;'><b> EDEN !!</b></marquee>"
            ],
            "text/plain": [
              "<IPython.core.display.HTML object>"
            ]
          },
          "metadata": {
            "tags": []
          }
        }
      ]
    }
  ]
}