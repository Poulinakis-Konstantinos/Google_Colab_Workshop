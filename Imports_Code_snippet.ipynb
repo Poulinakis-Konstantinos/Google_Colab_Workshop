{
  "nbformat": 4,
  "nbformat_minor": 0,
  "metadata": {
    "colab": {
      "name": "Imports-Code_snippet.ipynb",
      "provenance": [],
      "authorship_tag": "ABX9TyOuprIMhmsVQUV6zTtlNlHs",
      "include_colab_link": true
    },
    "kernelspec": {
      "name": "python3",
      "display_name": "Python 3"
    },
    "language_info": {
      "name": "python"
    }
  },
  "cells": [
    {
      "cell_type": "markdown",
      "metadata": {
        "id": "view-in-github",
        "colab_type": "text"
      },
      "source": [
        "<a href=\"https://colab.research.google.com/github/Poulinakis-Konstantinos/Google_Colab_Workshop/blob/main/Imports_Code_snippet.ipynb\" target=\"_parent\"><img src=\"https://colab.research.google.com/assets/colab-badge.svg\" alt=\"Open In Colab\"/></a>"
      ]
    },
    {
      "cell_type": "code",
      "metadata": {
        "id": "KNdKtuuJ1Wdt"
      },
      "source": [
        "# A piece of reusable code that you often use\n",
        "# Make it a snippet and import it from other notebooks\n",
        "\n",
        "import numpy as np\n",
        "import matplotlib.pyplot as plt\n",
        "import tensorflow as tf \n",
        "from tensorflow import keras"
      ],
      "execution_count": null,
      "outputs": []
    }
  ]
}